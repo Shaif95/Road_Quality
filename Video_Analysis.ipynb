{
 "cells": [
  {
   "cell_type": "code",
   "execution_count": null,
   "metadata": {},
   "outputs": [],
   "source": []
  },
  {
   "cell_type": "code",
   "execution_count": 1,
   "metadata": {},
   "outputs": [
    {
     "name": "stderr",
     "output_type": "stream",
     "text": [
      "Extracting frames:   2%|▉                                                           | 3/193 [00:00<00:07, 26.09frame/s]"
     ]
    },
    {
     "name": "stdout",
     "output_type": "stream",
     "text": [
      "[info] video: 20250826_31302PMByGPSMapCamera.mp4\n",
      "[info] size: 1600x1200, fps: 19.060, frames (reported): 193\n"
     ]
    },
    {
     "name": "stderr",
     "output_type": "stream",
     "text": [
      "Extracting frames: 100%|██████████████████████████████████████████████████████████| 193/193 [00:05<00:00, 36.04frame/s]"
     ]
    },
    {
     "name": "stdout",
     "output_type": "stream",
     "text": [
      "[done] saved: 193 frames -> frames_20250826_31302PMByGPSMapCamera\n",
      "[done] approx duration: 0:00:10.126122\n"
     ]
    },
    {
     "name": "stderr",
     "output_type": "stream",
     "text": [
      "\n"
     ]
    }
   ],
   "source": [
    "# Extract all frames from a video (same dir as this notebook)\n",
    "# Output goes to: frames_<video_name_without_ext>\n",
    "# Requires: opencv-python, tqdm\n",
    "\n",
    "from pathlib import Path\n",
    "from datetime import timedelta\n",
    "import cv2\n",
    "from tqdm import tqdm\n",
    "\n",
    "# --- config (edit if you want) ---\n",
    "vname = \"20250826_31302PMByGPSMapCamera.mp4\"  # video file in the same folder as the notebook\n",
    "fmt = \"jpg\"                                   # 'jpg' or 'png'\n",
    "jpg_quality = 95                              # used if fmt == 'jpg'\n",
    "# ---------------------------------\n",
    "\n",
    "vpath = Path(vname)\n",
    "if not vpath.exists():\n",
    "    raise FileNotFoundError(f\"Video not found: {vpath.resolve()}\")\n",
    "\n",
    "out_dir = Path(f\"frames_{vpath.stem}\")\n",
    "out_dir.mkdir(parents=True, exist_ok=True)\n",
    "\n",
    "cap = cv2.VideoCapture(str(vpath))\n",
    "if not cap.isOpened():\n",
    "    raise RuntimeError(\"Could not open video. Check codec and file integrity.\")\n",
    "\n",
    "fps = cap.get(cv2.CAP_PROP_FPS)\n",
    "n = int(cap.get(cv2.CAP_PROP_FRAME_COUNT))\n",
    "w = int(cap.get(cv2.CAP_PROP_FRAME_WIDTH))\n",
    "h = int(cap.get(cv2.CAP_PROP_FRAME_HEIGHT))\n",
    "\n",
    "print(f\"[info] video: {vpath.name}\")\n",
    "print(f\"[info] size: {w}x{h}, fps: {fps:.3f}, frames (reported): {n}\")\n",
    "\n",
    "# progress bar set to total if known\n",
    "pbar = tqdm(total=n if n > 0 else None, desc=\"Extracting frames\", unit=\"frame\")\n",
    "\n",
    "saved = 0\n",
    "# Prefer a for-loop: if frame count known, iterate that many times; otherwise, iterate large and break on EOF\n",
    "limit = n if n > 0 else 10**12\n",
    "\n",
    "# Encode params for JPEG/PNG\n",
    "enc_params = []\n",
    "if fmt.lower() == \"jpg\":\n",
    "    enc_params = [int(cv2.IMWRITE_JPEG_QUALITY), int(jpg_quality)]\n",
    "elif fmt.lower() == \"png\":\n",
    "    # 0 (fastest, larger) .. 9 (slowest, smaller); default 3-6 is fine\n",
    "    enc_params = [int(cv2.IMWRITE_PNG_COMPRESSION), 3]\n",
    "else:\n",
    "    raise ValueError(\"fmt must be 'jpg' or 'png'.\")\n",
    "\n",
    "for i in range(limit):\n",
    "    ok, frame = cap.read()\n",
    "    if not ok:\n",
    "        # end of file or read error\n",
    "        break\n",
    "\n",
    "    fn = out_dir / f\"frame_{i:06d}.{fmt}\"\n",
    "    # Write image\n",
    "    cv2.imwrite(str(fn), frame, enc_params)\n",
    "    saved = saved + 1  # (avoid i += 1)\n",
    "\n",
    "    # update progress\n",
    "    pbar.update(1)\n",
    "\n",
    "pbar.close()\n",
    "cap.release()\n",
    "\n",
    "# Summary (duration is approximate if fps unknown)\n",
    "dur_sec = saved / fps if fps and fps > 0 else 0\n",
    "print(f\"[done] saved: {saved} frames -> {out_dir}\")\n",
    "print(f\"[done] approx duration: {str(timedelta(seconds=dur_sec))}\")\n"
   ]
  },
  {
   "cell_type": "code",
   "execution_count": null,
   "metadata": {},
   "outputs": [],
   "source": []
  },
  {
   "cell_type": "code",
   "execution_count": 2,
   "metadata": {},
   "outputs": [
    {
     "name": "stdout",
     "output_type": "stream",
     "text": [
      "27.55995,-97878351\n"
     ]
    }
   ],
   "source": [
    "from pathlib import Path\n",
    "import cv2\n",
    "import re\n",
    "import pytesseract\n",
    "\n",
    "# bottom overlay path\n",
    "p = Path(r\"E:\\Road_Quality\\road_split_out\\frame_000006_bottom.jpg\")\n",
    "\n",
    "im = cv2.imread(str(p))\n",
    "if im is None:\n",
    "    raise FileNotFoundError(p)\n",
    "\n",
    "# --- Preprocess (OpenCV) ---\n",
    "h, w = im.shape[:2]\n",
    "x_cut = int(w * 0.28)  # crop left mini-map\n",
    "roi = im[:, x_cut:, :]\n",
    "\n",
    "roi = cv2.resize(roi, None, fx=1.6, fy=1.6, interpolation=cv2.INTER_CUBIC)\n",
    "g = cv2.cvtColor(roi, cv2.COLOR_BGR2GRAY)\n",
    "clahe = cv2.createCLAHE(clipLimit=2.0, tileGridSize=(8,8))\n",
    "g = clahe.apply(g)\n",
    "se = cv2.getStructuringElement(cv2.MORPH_RECT, (9,9))\n",
    "g = cv2.morphologyEx(g, cv2.MORPH_TOPHAT, se)\n",
    "bw = cv2.threshold(g, 0, 255, cv2.THRESH_BINARY_INV + cv2.THRESH_OTSU)[1]\n",
    "\n",
    "# --- OCR ---\n",
    "cfg = \"--oem 3 --psm 6 -l eng\"\n",
    "txt = pytesseract.image_to_string(bw, config=cfg)\n",
    "\n",
    "# --- Extract lat/long ---\n",
    "# match things like: Lat27.55995Long-978783519\n",
    "pattern = re.search(r\"Lat\\s*([0-9\\.\\-]+)[^\\d\\-]+Long\\s*([0-9\\.\\-]+)\", txt, re.IGNORECASE)\n",
    "if pattern:\n",
    "    lat, lon = pattern.groups()\n",
    "    print(f\"{lat},{lon}\")\n",
    "else:\n",
    "    print(\"Could not parse lat/long\")\n"
   ]
  },
  {
   "cell_type": "code",
   "execution_count": null,
   "metadata": {},
   "outputs": [],
   "source": []
  },
  {
   "cell_type": "code",
   "execution_count": null,
   "metadata": {},
   "outputs": [],
   "source": []
  },
  {
   "cell_type": "code",
   "execution_count": null,
   "metadata": {},
   "outputs": [],
   "source": []
  },
  {
   "cell_type": "code",
   "execution_count": null,
   "metadata": {},
   "outputs": [],
   "source": []
  },
  {
   "cell_type": "code",
   "execution_count": null,
   "metadata": {},
   "outputs": [],
   "source": []
  },
  {
   "cell_type": "code",
   "execution_count": null,
   "metadata": {},
   "outputs": [],
   "source": []
  },
  {
   "cell_type": "code",
   "execution_count": null,
   "metadata": {},
   "outputs": [],
   "source": []
  },
  {
   "cell_type": "code",
   "execution_count": null,
   "metadata": {},
   "outputs": [],
   "source": []
  },
  {
   "cell_type": "code",
   "execution_count": null,
   "metadata": {},
   "outputs": [],
   "source": []
  },
  {
   "cell_type": "code",
   "execution_count": null,
   "metadata": {},
   "outputs": [],
   "source": []
  },
  {
   "cell_type": "code",
   "execution_count": null,
   "metadata": {},
   "outputs": [],
   "source": []
  },
  {
   "cell_type": "code",
   "execution_count": null,
   "metadata": {},
   "outputs": [],
   "source": []
  },
  {
   "cell_type": "code",
   "execution_count": null,
   "metadata": {},
   "outputs": [],
   "source": []
  },
  {
   "cell_type": "code",
   "execution_count": null,
   "metadata": {},
   "outputs": [],
   "source": []
  },
  {
   "cell_type": "code",
   "execution_count": null,
   "metadata": {},
   "outputs": [],
   "source": []
  },
  {
   "cell_type": "code",
   "execution_count": null,
   "metadata": {},
   "outputs": [],
   "source": []
  },
  {
   "cell_type": "code",
   "execution_count": null,
   "metadata": {},
   "outputs": [],
   "source": []
  },
  {
   "cell_type": "code",
   "execution_count": null,
   "metadata": {},
   "outputs": [],
   "source": []
  },
  {
   "cell_type": "code",
   "execution_count": null,
   "metadata": {},
   "outputs": [],
   "source": []
  }
 ],
 "metadata": {
  "kernelspec": {
   "display_name": "Python 3 (ipykernel)",
   "language": "python",
   "name": "python3"
  },
  "language_info": {
   "codemirror_mode": {
    "name": "ipython",
    "version": 3
   },
   "file_extension": ".py",
   "mimetype": "text/x-python",
   "name": "python",
   "nbconvert_exporter": "python",
   "pygments_lexer": "ipython3",
   "version": "3.8.18"
  }
 },
 "nbformat": 4,
 "nbformat_minor": 4
}
