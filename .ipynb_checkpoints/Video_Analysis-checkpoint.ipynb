{
 "cells": [
  {
   "cell_type": "code",
   "execution_count": null,
   "metadata": {},
   "outputs": [],
   "source": []
  },
  {
   "cell_type": "code",
   "execution_count": 1,
   "metadata": {},
   "outputs": [
    {
     "name": "stderr",
     "output_type": "stream",
     "text": [
      "Extracting frames:   2%|▉                                                           | 3/193 [00:00<00:07, 26.09frame/s]"
     ]
    },
    {
     "name": "stdout",
     "output_type": "stream",
     "text": [
      "[info] video: 20250826_31302PMByGPSMapCamera.mp4\n",
      "[info] size: 1600x1200, fps: 19.060, frames (reported): 193\n"
     ]
    },
    {
     "name": "stderr",
     "output_type": "stream",
     "text": [
      "Extracting frames: 100%|██████████████████████████████████████████████████████████| 193/193 [00:05<00:00, 36.04frame/s]"
     ]
    },
    {
     "name": "stdout",
     "output_type": "stream",
     "text": [
      "[done] saved: 193 frames -> frames_20250826_31302PMByGPSMapCamera\n",
      "[done] approx duration: 0:00:10.126122\n"
     ]
    },
    {
     "name": "stderr",
     "output_type": "stream",
     "text": [
      "\n"
     ]
    }
   ],
   "source": [
    "# Extract all frames from a video (same dir as this notebook)\n",
    "# Output goes to: frames_<video_name_without_ext>\n",
    "# Requires: opencv-python, tqdm\n",
    "\n",
    "from pathlib import Path\n",
    "from datetime import timedelta\n",
    "import cv2\n",
    "from tqdm import tqdm\n",
    "\n",
    "# --- config (edit if you want) ---\n",
    "vname = \"20250826_31302PMByGPSMapCamera.mp4\"  # video file in the same folder as the notebook\n",
    "fmt = \"jpg\"                                   # 'jpg' or 'png'\n",
    "jpg_quality = 95                              # used if fmt == 'jpg'\n",
    "# ---------------------------------\n",
    "\n",
    "vpath = Path(vname)\n",
    "if not vpath.exists():\n",
    "    raise FileNotFoundError(f\"Video not found: {vpath.resolve()}\")\n",
    "\n",
    "out_dir = Path(f\"frames_{vpath.stem}\")\n",
    "out_dir.mkdir(parents=True, exist_ok=True)\n",
    "\n",
    "cap = cv2.VideoCapture(str(vpath))\n",
    "if not cap.isOpened():\n",
    "    raise RuntimeError(\"Could not open video. Check codec and file integrity.\")\n",
    "\n",
    "fps = cap.get(cv2.CAP_PROP_FPS)\n",
    "n = int(cap.get(cv2.CAP_PROP_FRAME_COUNT))\n",
    "w = int(cap.get(cv2.CAP_PROP_FRAME_WIDTH))\n",
    "h = int(cap.get(cv2.CAP_PROP_FRAME_HEIGHT))\n",
    "\n",
    "print(f\"[info] video: {vpath.name}\")\n",
    "print(f\"[info] size: {w}x{h}, fps: {fps:.3f}, frames (reported): {n}\")\n",
    "\n",
    "# progress bar set to total if known\n",
    "pbar = tqdm(total=n if n > 0 else None, desc=\"Extracting frames\", unit=\"frame\")\n",
    "\n",
    "saved = 0\n",
    "# Prefer a for-loop: if frame count known, iterate that many times; otherwise, iterate large and break on EOF\n",
    "limit = n if n > 0 else 10**12\n",
    "\n",
    "# Encode params for JPEG/PNG\n",
    "enc_params = []\n",
    "if fmt.lower() == \"jpg\":\n",
    "    enc_params = [int(cv2.IMWRITE_JPEG_QUALITY), int(jpg_quality)]\n",
    "elif fmt.lower() == \"png\":\n",
    "    # 0 (fastest, larger) .. 9 (slowest, smaller); default 3-6 is fine\n",
    "    enc_params = [int(cv2.IMWRITE_PNG_COMPRESSION), 3]\n",
    "else:\n",
    "    raise ValueError(\"fmt must be 'jpg' or 'png'.\")\n",
    "\n",
    "for i in range(limit):\n",
    "    ok, frame = cap.read()\n",
    "    if not ok:\n",
    "        # end of file or read error\n",
    "        break\n",
    "\n",
    "    fn = out_dir / f\"frame_{i:06d}.{fmt}\"\n",
    "    # Write image\n",
    "    cv2.imwrite(str(fn), frame, enc_params)\n",
    "    saved = saved + 1  # (avoid i += 1)\n",
    "\n",
    "    # update progress\n",
    "    pbar.update(1)\n",
    "\n",
    "pbar.close()\n",
    "cap.release()\n",
    "\n",
    "# Summary (duration is approximate if fps unknown)\n",
    "dur_sec = saved / fps if fps and fps > 0 else 0\n",
    "print(f\"[done] saved: {saved} frames -> {out_dir}\")\n",
    "print(f\"[done] approx duration: {str(timedelta(seconds=dur_sec))}\")\n"
   ]
  },
  {
   "cell_type": "code",
   "execution_count": null,
   "metadata": {},
   "outputs": [],
   "source": []
  },
  {
   "cell_type": "code",
   "execution_count": 1,
   "metadata": {},
   "outputs": [
    {
     "ename": "ModuleNotFoundError",
     "evalue": "No module named 'pytesseract'",
     "output_type": "error",
     "traceback": [
      "\u001b[1;31m---------------------------------------------------------------------------\u001b[0m",
      "\u001b[1;31mModuleNotFoundError\u001b[0m                       Traceback (most recent call last)",
      "Cell \u001b[1;32mIn[1], line 35\u001b[0m\n\u001b[0;32m     28\u001b[0m bw \u001b[38;5;241m=\u001b[39m cv2\u001b[38;5;241m.\u001b[39mthreshold(g, \u001b[38;5;241m0\u001b[39m, \u001b[38;5;241m255\u001b[39m, cv2\u001b[38;5;241m.\u001b[39mTHRESH_BINARY_INV \u001b[38;5;241m+\u001b[39m cv2\u001b[38;5;241m.\u001b[39mTHRESH_OTSU)[\u001b[38;5;241m1\u001b[39m]\n\u001b[0;32m     30\u001b[0m \u001b[38;5;66;03m# --- OCR (Tesseract) ---\u001b[39;00m\n\u001b[0;32m     31\u001b[0m \u001b[38;5;66;03m# If Windows: ensure Tesseract is installed and (if needed) uncomment the next 2 lines:\u001b[39;00m\n\u001b[0;32m     32\u001b[0m \u001b[38;5;66;03m# import pytesseract\u001b[39;00m\n\u001b[0;32m     33\u001b[0m \u001b[38;5;66;03m# pytesseract.pytesseract.tesseract_cmd = r\"C:\\Program Files\\Tesseract-OCR\\tesseract.exe\"\u001b[39;00m\n\u001b[1;32m---> 35\u001b[0m \u001b[38;5;28;01mimport\u001b[39;00m \u001b[38;5;21;01mpytesseract\u001b[39;00m\n\u001b[0;32m     36\u001b[0m cfg \u001b[38;5;241m=\u001b[39m \u001b[38;5;124m\"\u001b[39m\u001b[38;5;124m--oem 3 --psm 6 -l eng -c tessedit_char_whitelist=0123456789ABCDEFGHIJKLMNOPQRSTUVWXYZabcdefghijklmnopqrstuvwxyz°-+.,:/ \u001b[39m\u001b[38;5;124m\"\u001b[39m\n\u001b[0;32m     37\u001b[0m txt \u001b[38;5;241m=\u001b[39m pytesseract\u001b[38;5;241m.\u001b[39mimage_to_string(bw, config\u001b[38;5;241m=\u001b[39mcfg)\n",
      "\u001b[1;31mModuleNotFoundError\u001b[0m: No module named 'pytesseract'"
     ]
    }
   ],
   "source": [
    "from pathlib import Path\n",
    "import cv2\n",
    "\n",
    "# bottom overlay path you gave\n",
    "p = Path(r\"E:\\Road_Quality\\road_split_out\\frame_000006_bottom.jpg\")\n",
    "\n",
    "im = cv2.imread(str(p))\n",
    "if im is None:\n",
    "    raise FileNotFoundError(p)\n",
    "\n",
    "# --- Preprocess (OpenCV) ---\n",
    "# 1) crop out the left mini-map (keeps the text only). Adjust 0.28 if needed.\n",
    "h, w = im.shape[:2]\n",
    "x_cut = int(w * 0.28)\n",
    "roi = im[:, x_cut:, :]\n",
    "\n",
    "# 2) upscale for sharper text\n",
    "roi = cv2.resize(roi, None, fx=1.6, fy=1.6, interpolation=cv2.INTER_CUBIC)\n",
    "\n",
    "# 3) grayscale + CLAHE + tophat to highlight bright text on dark panel\n",
    "g = cv2.cvtColor(roi, cv2.COLOR_BGR2GRAY)\n",
    "clahe = cv2.createCLAHE(clipLimit=2.0, tileGridSize=(8,8))\n",
    "g = clahe.apply(g)\n",
    "se = cv2.getStructuringElement(cv2.MORPH_RECT, (9,9))\n",
    "g = cv2.morphologyEx(g, cv2.MORPH_TOPHAT, se)\n",
    "\n",
    "# 4) Otsu threshold (invert so text becomes dark-on-white, which Tesseract prefers)\n",
    "bw = cv2.threshold(g, 0, 255, cv2.THRESH_BINARY_INV + cv2.THRESH_OTSU)[1]\n",
    "\n",
    "# --- OCR (Tesseract) ---\n",
    "# If Windows: ensure Tesseract is installed and (if needed) uncomment the next 2 lines:\n",
    "# import pytesseract\n",
    "# pytesseract.pytesseract.tesseract_cmd = r\"C:\\Program Files\\Tesseract-OCR\\tesseract.exe\"\n",
    "\n",
    "import pytesseract\n",
    "cfg = \"--oem 3 --psm 6 -l eng -c tessedit_char_whitelist=0123456789ABCDEFGHIJKLMNOPQRSTUVWXYZabcdefghijklmnopqrstuvwxyz°-+.,:/ \"\n",
    "txt = pytesseract.image_to_string(bw, config=cfg)\n",
    "\n",
    "print(\"----- OCR FULL TEXT -----\\n\")\n",
    "print(txt if txt else \"<no text recognized>\")\n"
   ]
  },
  {
   "cell_type": "code",
   "execution_count": null,
   "metadata": {},
   "outputs": [],
   "source": []
  },
  {
   "cell_type": "code",
   "execution_count": 2,
   "metadata": {},
   "outputs": [
    {
     "name": "stdout",
     "output_type": "stream",
     "text": [
      "Collecting pytesseract"
     ]
    },
    {
     "name": "stderr",
     "output_type": "stream",
     "text": [
      "WARNING: Ignoring invalid distribution -ckaging (c:\\programdata\\anaconda3\\lib\\site-packages)\n",
      "WARNING: Ignoring invalid distribution -umpy (c:\\programdata\\anaconda3\\lib\\site-packages)\n",
      "WARNING: Ignoring invalid distribution -sgpack (c:\\programdata\\anaconda3\\lib\\site-packages)\n",
      "WARNING: Ignoring invalid distribution -mportlib-metadata (c:\\programdata\\anaconda3\\lib\\site-packages)\n",
      "WARNING: Ignoring invalid distribution - (c:\\programdata\\anaconda3\\lib\\site-packages)\n",
      "WARNING: Ignoring invalid distribution -andas (c:\\programdata\\anaconda3\\lib\\site-packages)\n"
     ]
    },
    {
     "name": "stdout",
     "output_type": "stream",
     "text": [
      "\n",
      "  Downloading pytesseract-0.3.13-py3-none-any.whl (14 kB)\n",
      "Requirement already satisfied: Pillow>=8.0.0 in c:\\programdata\\anaconda3\\lib\\site-packages (from pytesseract) (8.0.1)\n",
      "Collecting packaging>=21.3\n",
      "  Downloading packaging-25.0-py3-none-any.whl (66 kB)\n",
      "Installing collected packages: packaging, pytesseract\n",
      "  Attempting uninstall: packaging\n",
      "    Found existing installation: packaging 20.4\n",
      "    Uninstalling packaging-20.4:\n"
     ]
    },
    {
     "name": "stderr",
     "output_type": "stream",
     "text": [
      "WARNING: Ignoring invalid distribution -ackaging (c:\\programdata\\anaconda3\\lib\\site-packages)\n",
      "WARNING: Ignoring invalid distribution -ckaging (c:\\programdata\\anaconda3\\lib\\site-packages)\n",
      "WARNING: Ignoring invalid distribution -umpy (c:\\programdata\\anaconda3\\lib\\site-packages)\n",
      "WARNING: Ignoring invalid distribution -sgpack (c:\\programdata\\anaconda3\\lib\\site-packages)\n",
      "WARNING: Ignoring invalid distribution -mportlib-metadata (c:\\programdata\\anaconda3\\lib\\site-packages)\n",
      "WARNING: Ignoring invalid distribution - (c:\\programdata\\anaconda3\\lib\\site-packages)\n",
      "WARNING: Ignoring invalid distribution -andas (c:\\programdata\\anaconda3\\lib\\site-packages)\n",
      "WARNING: Ignoring invalid distribution -ackaging (c:\\programdata\\anaconda3\\lib\\site-packages)\n",
      "    WARNING: Ignoring invalid distribution -ckaging (c:\\programdata\\anaconda3\\lib\\site-packages)\n",
      "    WARNING: Ignoring invalid distribution -umpy (c:\\programdata\\anaconda3\\lib\\site-packages)\n",
      "    WARNING: Ignoring invalid distribution -sgpack (c:\\programdata\\anaconda3\\lib\\site-packages)\n",
      "    WARNING: Ignoring invalid distribution -mportlib-metadata (c:\\programdata\\anaconda3\\lib\\site-packages)\n",
      "    WARNING: Ignoring invalid distribution - (c:\\programdata\\anaconda3\\lib\\site-packages)\n",
      "    WARNING: Ignoring invalid distribution -andas (c:\\programdata\\anaconda3\\lib\\site-packages)\n",
      "    WARNING: Ignoring invalid distribution -ackaging (c:\\programdata\\anaconda3\\lib\\site-packages)\n",
      "ERROR: Could not install packages due to an OSError: [WinError 5] Access is denied: 'c:\\\\programdata\\\\anaconda3\\\\lib\\\\site-packages\\\\packaging-20.4.dist-info\\\\INSTALLER'\n",
      "Consider using the `--user` option or check the permissions.\n",
      "\n",
      "WARNING: You are using pip version 21.1.3; however, version 25.0.1 is available.\n",
      "You should consider upgrading via the 'C:\\ProgramData\\Anaconda3\\python.exe -m pip install --upgrade pip' command.\n"
     ]
    }
   ],
   "source": []
  },
  {
   "cell_type": "code",
   "execution_count": null,
   "metadata": {},
   "outputs": [],
   "source": []
  },
  {
   "cell_type": "code",
   "execution_count": null,
   "metadata": {},
   "outputs": [],
   "source": []
  },
  {
   "cell_type": "code",
   "execution_count": null,
   "metadata": {},
   "outputs": [],
   "source": []
  },
  {
   "cell_type": "code",
   "execution_count": null,
   "metadata": {},
   "outputs": [],
   "source": []
  },
  {
   "cell_type": "code",
   "execution_count": null,
   "metadata": {},
   "outputs": [],
   "source": []
  },
  {
   "cell_type": "code",
   "execution_count": null,
   "metadata": {},
   "outputs": [],
   "source": []
  },
  {
   "cell_type": "code",
   "execution_count": null,
   "metadata": {},
   "outputs": [],
   "source": []
  },
  {
   "cell_type": "code",
   "execution_count": null,
   "metadata": {},
   "outputs": [],
   "source": []
  },
  {
   "cell_type": "code",
   "execution_count": null,
   "metadata": {},
   "outputs": [],
   "source": []
  },
  {
   "cell_type": "code",
   "execution_count": null,
   "metadata": {},
   "outputs": [],
   "source": []
  },
  {
   "cell_type": "code",
   "execution_count": null,
   "metadata": {},
   "outputs": [],
   "source": []
  },
  {
   "cell_type": "code",
   "execution_count": null,
   "metadata": {},
   "outputs": [],
   "source": []
  },
  {
   "cell_type": "code",
   "execution_count": null,
   "metadata": {},
   "outputs": [],
   "source": []
  },
  {
   "cell_type": "code",
   "execution_count": null,
   "metadata": {},
   "outputs": [],
   "source": []
  },
  {
   "cell_type": "code",
   "execution_count": null,
   "metadata": {},
   "outputs": [],
   "source": []
  },
  {
   "cell_type": "code",
   "execution_count": null,
   "metadata": {},
   "outputs": [],
   "source": []
  },
  {
   "cell_type": "code",
   "execution_count": null,
   "metadata": {},
   "outputs": [],
   "source": []
  }
 ],
 "metadata": {
  "kernelspec": {
   "display_name": "Python 3 (ipykernel)",
   "language": "python",
   "name": "python3"
  },
  "language_info": {
   "codemirror_mode": {
    "name": "ipython",
    "version": 3
   },
   "file_extension": ".py",
   "mimetype": "text/x-python",
   "name": "python",
   "nbconvert_exporter": "python",
   "pygments_lexer": "ipython3",
   "version": "3.8.18"
  }
 },
 "nbformat": 4,
 "nbformat_minor": 4
}
